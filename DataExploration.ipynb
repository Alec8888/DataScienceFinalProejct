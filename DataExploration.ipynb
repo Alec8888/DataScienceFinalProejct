{
 "cells": [
  {
   "cell_type": "code",
   "execution_count": null,
   "metadata": {},
   "outputs": [],
   "source": [
    "import pandas as pd\n",
    "df = pd.read_csv('./dataset.csv')\n",
    "df.head()"
   ]
  },
  {
   "cell_type": "code",
   "execution_count": null,
   "metadata": {},
   "outputs": [],
   "source": [
    "df.describe(include = 'all')"
   ]
  },
  {
   "cell_type": "code",
   "execution_count": null,
   "metadata": {},
   "outputs": [],
   "source": [
    "print(df.isnull().sum())"
   ]
  },
  {
   "cell_type": "code",
   "execution_count": null,
   "metadata": {},
   "outputs": [],
   "source": [
    "import matplotlib.pyplot as plt\n",
    "import numpy as np\n",
    "# Create subplots\n",
    "fig, ax = plt.subplots(2, 1, figsize=(15, 10))\n",
    "\n",
    "# Plot histogram for popularity\n",
    "ax[0].hist(df['popularity'], bins=30, edgecolor='black', alpha=0.7)\n",
    "ax[0].set_title('Histogram of Popularity')\n",
    "ax[0].set_xlabel('Popularity')\n",
    "ax[0].set_ylabel('Frequency')\n",
    "\n",
    "# Plot density plot for popularity using Gaussian Kernel Density Estimate\n",
    "from scipy.stats import gaussian_kde\n",
    "density = gaussian_kde(df['popularity'])\n",
    "x_vals = np.linspace(min(df['popularity']), max(df['popularity']), 1000)\n",
    "y_vals = density(x_vals)\n",
    "ax[1].plot(x_vals, y_vals, color='blue')\n",
    "ax[1].set_title('Density Plot of Popularity')\n",
    "ax[1].set_xlabel('Popularity')\n",
    "ax[1].set_ylabel('Density')\n",
    "\n",
    "# Show the plots\n",
    "plt.tight_layout()\n",
    "plt.show()"
   ]
  },
  {
   "cell_type": "code",
   "execution_count": null,
   "metadata": {},
   "outputs": [],
   "source": [
    "# Create a box plot for popularity\n",
    "plt.figure(figsize=(10, 5))\n",
    "plt.boxplot(df['popularity'], vert=False)\n",
    "plt.title('Box Plot of Popularity')\n",
    "plt.xlabel('Popularity')\n",
    "plt.show()"
   ]
  },
  {
   "cell_type": "code",
   "execution_count": null,
   "metadata": {},
   "outputs": [],
   "source": [
    "# Compute the correlation matrix for numerical features\n",
    "\n",
    "numerical_df = df.select_dtypes(include=['float64', 'int64'])\n",
    "correlation_matrix = numerical_df.corr()\n",
    "\n",
    "\n",
    "# Display the correlation with 'popularity'\n",
    "correlation_with_popularity = correlation_matrix['popularity'].sort_values(ascending=False)\n",
    "correlation_with_popularity"
   ]
  },
  {
   "cell_type": "code",
   "execution_count": null,
   "metadata": {},
   "outputs": [],
   "source": [
    "import seaborn as sns\n",
    "\n",
    "# Filter the DataFrame for explicit and non-explicit songs\n",
    "explicit_songs = df[df['explicit'] == True]\n",
    "non_explicit_songs = df[df['explicit'] == False]\n",
    "\n",
    "# Create subplots\n",
    "fig, ax = plt.subplots(2, 1, figsize=(10, 8))\n",
    "\n",
    "# Plot histogram for explicit songs' popularity\n",
    "sns.histplot(explicit_songs['popularity'], ax=ax[0], kde=True, color='blue', label='Explicit')\n",
    "ax[0].set_title('Distribution of Popularity for Explicit Songs')\n",
    "ax[0].set_xlabel('Popularity')\n",
    "ax[0].set_ylabel('Density')\n",
    "\n",
    "# Plot histogram for non-explicit songs' popularity\n",
    "sns.histplot(non_explicit_songs['popularity'], ax=ax[1], kde=True, color='green', label='Non-Explicit')\n",
    "ax[1].set_title('Distribution of Popularity for Non-Explicit Songs')\n",
    "ax[1].set_xlabel('Popularity')\n",
    "ax[1].set_ylabel('Density')\n",
    "\n",
    "# Add legend\n",
    "ax[0].legend()\n",
    "ax[1].legend()\n",
    "\n",
    "# Adjust layout\n",
    "plt.tight_layout()\n",
    "\n",
    "# Show the plots\n",
    "plt.show()"
   ]
  },
  {
   "cell_type": "code",
   "execution_count": null,
   "metadata": {},
   "outputs": [],
   "source": [
    "import matplotlib.pyplot as plt\n",
    "\n",
    "\n",
    "average_values = df.groupby('track_genre')[['danceability', 'energy']].mean()\n",
    "plt.figure(figsize=(10, 6))  \n",
    "average_values.plot(kind='line')\n",
    "plt.title('Average Danceability and Energy by Track Genre')\n",
    "plt.xlabel('Track Genre')\n",
    "plt.ylabel('Average Value')\n",
    "plt.tight_layout()\n",
    "plt.show()"
   ]
  },
  {
   "cell_type": "code",
   "execution_count": null,
   "metadata": {},
   "outputs": [],
   "source": [
    "# Print the number of samples and the number of features\n",
    "num_samples, num_features = df.shape\n",
    "print(f\"The dataset contains {num_samples} samples and {num_features} features.\")\n",
    "\n",
    "# Check the data types of the features\n",
    "print(\"\\nData types of the features:\")\n",
    "print(df.dtypes)\n",
    "\n",
    "# Check for missing values\n",
    "print(\"\\nNumber of missing values in each feature:\")\n",
    "print(df.isna().sum())\n",
    "\n",
    "# Check the distribution of genres\n",
    "print(\"\\nDistribution of genres:\")\n",
    "print(df['track_genre'].value_counts())\n",
    "\n",
    "# Check the distribution of popularity scores\n",
    "print(\"\\nSummary statistics of popularity scores:\")\n",
    "print(df['popularity'].describe())"
   ]
  },
  {
   "cell_type": "code",
   "execution_count": null,
   "metadata": {},
   "outputs": [],
   "source": [
    "# Set the style of the plots\n",
    "sns.set(style=\"whitegrid\")\n",
    "\n",
    "# Plot histograms for the numerical features\n",
    "numerical_features = ['popularity', 'duration_ms', 'danceability', 'energy', 'key', \n",
    "                      'loudness', 'speechiness', 'acousticness', 'instrumentalness', \n",
    "                      'liveness', 'valence', 'tempo']\n",
    "df[numerical_features].hist(bins=30, figsize=(20, 15))\n",
    "plt.tight_layout()\n",
    "plt.show()\n",
    "\n",
    "# Plot a bar plot for the 'explicit' feature\n",
    "plt.figure(figsize=(6, 6))\n",
    "sns.countplot(x='explicit', data=df)\n",
    "plt.title('Distribution of Explicit Lyrics')\n",
    "plt.show()\n",
    "\n",
    "# Plot a bar plot for the 'mode' feature\n",
    "plt.figure(figsize=(6, 6))\n",
    "sns.countplot(x='mode', data=df)\n",
    "plt.title('Distribution of Modes')\n",
    "plt.show()\n",
    "\n",
    "# Plot a bar plot for the 'time_signature' feature\n",
    "plt.figure(figsize=(6, 6))\n",
    "sns.countplot(x='time_signature', data=df)\n",
    "plt.title('Distribution of Time Signatures')\n",
    "plt.show()\n",
    "\n",
    "# Plot a correlation matrix\n",
    "plt.figure(figsize=(12, 10))\n",
    "sns.heatmap(df[numerical_features].corr(), annot=True, fmt=\".2f\", cmap='coolwarm')\n",
    "plt.title('Correlation Matrix')\n",
    "plt.show()"
   ]
  }
 ],
 "metadata": {
  "language_info": {
   "name": "python"
  },
  "orig_nbformat": 4
 },
 "nbformat": 4,
 "nbformat_minor": 2
}
