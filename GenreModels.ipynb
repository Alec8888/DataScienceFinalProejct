{
 "cells": [
  {
   "cell_type": "code",
   "execution_count": 1,
   "metadata": {},
   "outputs": [],
   "source": [
    "import pandas as pd\n",
    "data = pd.read_csv('dataset.csv')"
   ]
  },
  {
   "cell_type": "code",
   "execution_count": 2,
   "metadata": {},
   "outputs": [],
   "source": [
    "data = data.drop(['Unnamed: 0', 'track_id', 'artists', 'album_name', 'track_name', 'popularity','Unnamed: 0'], axis=1)\n",
    "\n",
    "# remove more features\n",
    "data = data.drop(['key', 'mode', 'time_signature'], axis=1)\n",
    "# tried removing other various features here, but it didn't improve the accuracy\n",
    "\n"
   ]
  },
  {
   "cell_type": "code",
   "execution_count": 3,
   "metadata": {},
   "outputs": [
    {
     "data": {
      "text/plain": [
       "duration_ms         0\n",
       "explicit            0\n",
       "danceability        0\n",
       "energy              0\n",
       "loudness            0\n",
       "speechiness         0\n",
       "acousticness        0\n",
       "instrumentalness    0\n",
       "liveness            0\n",
       "valence             0\n",
       "tempo               0\n",
       "track_genre         0\n",
       "dtype: int64"
      ]
     },
     "execution_count": 3,
     "metadata": {},
     "output_type": "execute_result"
    }
   ],
   "source": [
    "# Convert 'explicit' column to integer type\n",
    "#data['explicit'] = data['explicit'].astype(int)\n",
    "# Check for missing values\n",
    "data.isnull().sum()"
   ]
  },
  {
   "cell_type": "code",
   "execution_count": 4,
   "metadata": {},
   "outputs": [
    {
     "data": {
      "text/plain": [
       "acoustic             1000\n",
       "punk-rock            1000\n",
       "progressive-house    1000\n",
       "power-pop            1000\n",
       "pop                  1000\n",
       "                     ... \n",
       "folk                 1000\n",
       "emo                  1000\n",
       "electronic           1000\n",
       "electro              1000\n",
       "world-music          1000\n",
       "Name: track_genre, Length: 114, dtype: int64"
      ]
     },
     "execution_count": 4,
     "metadata": {},
     "output_type": "execute_result"
    }
   ],
   "source": [
    "# Check the distribution of genres\n",
    "genre_counts = data['track_genre'].value_counts()\n",
    "genre_counts\n"
   ]
  },
  {
   "cell_type": "code",
   "execution_count": 5,
   "metadata": {},
   "outputs": [
    {
     "data": {
      "text/plain": [
       "(0.008771929824561403, 0.008640350877192983)"
      ]
     },
     "execution_count": 5,
     "metadata": {},
     "output_type": "execute_result"
    }
   ],
   "source": [
    "from sklearn.dummy import DummyClassifier\n",
    "from sklearn.model_selection import train_test_split\n",
    "from sklearn.metrics import accuracy_score\n",
    "\n",
    "# Define the target variable and the features\n",
    "X = data.drop('track_genre', axis=1)\n",
    "y = data['track_genre']\n",
    "\n",
    "# Split the data into training and test sets\n",
    "X_train, X_test, y_train, y_test = train_test_split(X, y, test_size=0.2, random_state=42, stratify=y)\n",
    "\n",
    "# Calculate the baseline accuracy if we randomly guess\n",
    "random_guessing_accuracy = 1 / len(genre_counts)\n",
    "\n",
    "# Initialize a dummy classifier\n",
    "dummy_clf = DummyClassifier(strategy=\"stratified\", random_state=42)\n",
    "\n",
    "# Fit the dummy classifier\n",
    "dummy_clf.fit(X_train, y_train)\n",
    "\n",
    "# Make predictions on the test set\n",
    "dummy_predictions = dummy_clf.predict(X_test)\n",
    "\n",
    "# Calculate the baseline accuracy of the dummy classifier\n",
    "dummy_accuracy = accuracy_score(y_test, dummy_predictions)\n",
    "\n",
    "random_guessing_accuracy, dummy_accuracy\n"
   ]
  },
  {
   "cell_type": "code",
   "execution_count": 6,
   "metadata": {},
   "outputs": [
    {
     "data": {
      "text/plain": [
       "0.16728070175438597"
      ]
     },
     "execution_count": 6,
     "metadata": {},
     "output_type": "execute_result"
    }
   ],
   "source": [
    "from sklearn.tree import DecisionTreeClassifier\n",
    "from sklearn.preprocessing import LabelEncoder\n",
    "\n",
    "# Remove non-relevant columns\n",
    "#X = X.drop(['track_id', 'artists', 'album_name', 'track_name', 'Unnamed: 0'], axis=1)\n",
    "\n",
    "# Convert boolean 'explicit' column to int\n",
    "#X['explicit'] = X['explicit'].astype(int)\n",
    "\n",
    "# Initialize the LabelEncoder\n",
    "le = LabelEncoder()\n",
    "\n",
    "# Fit and transform the target variable\n",
    "y = le.fit_transform(y)\n",
    "\n",
    "# Split the data into training and test sets\n",
    "X_train, X_test, y_train, y_test = train_test_split(X, y, test_size=0.2, random_state=42, stratify=y)\n",
    "\n",
    "# Initialize the classifier\n",
    "clf = DecisionTreeClassifier(random_state=42)\n",
    "\n",
    "# Fit the classifier\n",
    "clf.fit(X_train, y_train)\n",
    "\n",
    "# Predict the test set results\n",
    "y_pred = clf.predict(X_test)\n",
    "\n",
    "# Calculate the accuracy of the model\n",
    "accuracy = accuracy_score(y_test, y_pred)\n",
    "\n",
    "accuracy\n"
   ]
  },
  {
   "cell_type": "code",
   "execution_count": 7,
   "metadata": {},
   "outputs": [
    {
     "data": {
      "text/plain": [
       "({'min_samples_split': 70, 'max_depth': 50}, 0.18144736842105263)"
      ]
     },
     "execution_count": 7,
     "metadata": {},
     "output_type": "execute_result"
    }
   ],
   "source": [
    "from sklearn.model_selection import GridSearchCV\n",
    "from sklearn.model_selection import RandomizedSearchCV\n",
    "\n",
    "# Define the reduced parameter grid\n",
    "param_grid = {\n",
    "    'max_depth': list(range(10, 51, 10)),\n",
    "    'min_samples_split': list(range(10, 101, 20)),\n",
    "}\n",
    "\n",
    "# Initialize the GridSearchCV\n",
    "#grid_search = GridSearchCV(clf, param_grid, cv=3, scoring='accuracy', n_jobs=-1)\n",
    "\n",
    "# Fit the GridSearchCV\n",
    "#grid_search.fit(X_train, y_train)\n",
    "\n",
    "\n",
    "# Initialize the RandomizedSearchCV with reduced iterations\n",
    "random_search = RandomizedSearchCV(clf, param_grid, n_iter=10, cv=3, scoring='accuracy', n_jobs=-1, random_state=42)\n",
    "\n",
    "# Fit the RandomizedSearchCV\n",
    "random_search.fit(X_train, y_train)\n",
    "\n",
    "# Get the best parameters\n",
    "best_params = random_search.best_params_\n",
    "\n",
    "# Train and evaluate the classifier with the best parameters\n",
    "clf = DecisionTreeClassifier(**best_params, random_state=42)\n",
    "clf.fit(X_train, y_train)\n",
    "y_pred = clf.predict(X_test)\n",
    "tuned_accuracy = accuracy_score(y_test, y_pred)\n",
    "\n",
    "best_params, tuned_accuracy\n"
   ]
  },
  {
   "cell_type": "code",
   "execution_count": 84,
   "metadata": {},
   "outputs": [
    {
     "data": {
      "image/png": "[encoded data removed]",
      "text/plain": [
       "<Figure size 1000x600 with 1 Axes>"
      ]
     },
     "metadata": {},
     "output_type": "display_data"
    }
   ],
   "source": [
    "import matplotlib.pyplot as plt\n",
    "\n",
    "model_names = [\"Random Guess\", \"Dummy Classifier\", \"Decision Tree Classifier\", \"Decision Tree Tuned\"]\n",
    "values = [0.877, 0.864, 16.6, 18.1]\n",
    "\n",
    "colors = ['orange' if model in [\"Decision Tree Classifier\", \"Decision Tree Tuned\"] else 'steelblue' for model in model_names]\n",
    "\n",
    "\n",
    "plt.figure(figsize=(10,6))\n",
    "plt.barh(model_names, values, color=colors)\n",
    "plt.xlabel('Accuracy')\n",
    "plt.ylabel('Models')\n",
    "plt.title('Genre Classification Accuracy')\n",
    "plt.show()\n"
   ]
  },
  {
   "cell_type": "markdown",
   "metadata": {},
   "source": [
    "Baselines:  \n",
    "- Random guessing: Since all genres are equally represented, the probability of correctly guessing a genre at random is simply the reciprocal of the number of unique genres.\n",
    "\n",
    "- Dummy classifier: This classifier makes predictions using simple rules, which can be useful as a baseline comparison against actual models. The \"stratified\" strategy generates predictions by respecting the class distribution of the training set. This would be a good choice considering the equal distribution of genres in our dataset.\n",
    "\n",
    "Tuning:  \n",
    "Used randomSearchCV to help select groups of attributes."
   ]
  },
  {
   "cell_type": "markdown",
   "metadata": {},
   "source": [
    "\n",
    "\n"
   ]
  },
  {
   "cell_type": "code",
   "execution_count": 8,
   "metadata": {},
   "outputs": [],
   "source": [
    "# normalize duration\n",
    "X['duration_ms'] = (X['duration_ms'] - X['duration_ms'].mean()) / X['duration_ms'].std()\n",
    "# normalize loudness\n",
    "X['loudness'] = (X['loudness'] - X['loudness'].mean()) / X['loudness'].std()\n",
    "# normalize tempo\n",
    "X['tempo'] = (X['tempo'] - X['tempo'].mean()) / X['tempo'].std()\n",
    "# normalize key\n",
    "#X['key'] = (X['key'] - X['key'].mean()) / X['key'].std()"
   ]
  },
  {
   "cell_type": "code",
   "execution_count": 9,
   "metadata": {},
   "outputs": [],
   "source": [
    "#X = data.drop('explicit', axis=1)\n",
    "# Split the data into training and test sets\n",
    "X_train, X_test, y_train, y_test = train_test_split(X, y, test_size=0.2, random_state=42, stratify=y)\n",
    "\n",
    "# Train another classifier with the best parameters\n",
    "#clf = DecisionTreeClassifier(**best_params, random_state=42)\n",
    "#clf.fit(X_train, y_train)\n",
    "#y_pred = clf.predict(X_test)\n",
    "#new_tuned_accuracy = accuracy_score(y_test, y_pred)\n",
    "#tuned_accuracy - new_tuned_accuracy\n"
   ]
  },
  {
   "cell_type": "code",
   "execution_count": 87,
   "metadata": {},
   "outputs": [
    {
     "name": "stderr",
     "output_type": "stream",
     "text": [
      "c:\\Users\\Alec\\AppData\\Local\\Programs\\Python\\Python311\\Lib\\site-packages\\sklearn\\neural_network\\_multilayer_perceptron.py:691: ConvergenceWarning: Stochastic Optimizer: Maximum iterations (400) reached and the optimization hasn't converged yet.\n",
      "  warnings.warn(\n"
     ]
    },
    {
     "data": {
      "text/plain": [
       "0.223859649122807"
      ]
     },
     "execution_count": 87,
     "metadata": {},
     "output_type": "execute_result"
    }
   ],
   "source": [
    "# Train a NN classifier for X to classify genre (y)\n",
    "from sklearn.neural_network import MLPClassifier\n",
    "from sklearn.preprocessing import StandardScaler\n",
    "\n",
    "# Initialize the scaler\n",
    "scaler = StandardScaler()\n",
    "\n",
    "# Fit and transform the training data\n",
    "X_train_scaled = scaler.fit_transform(X_train)\n",
    "\n",
    "# Transform the test set\n",
    "X_test_scaled = scaler.transform(X_test)\n",
    "\n",
    "# Initialize the MLPClassifier\n",
    "mlp = MLPClassifier(hidden_layer_sizes=(100, 100), max_iter=400, random_state=42)\n",
    "\n",
    "# Fit the MLPClassifier\n",
    "mlp.fit(X_train_scaled, y_train)\n",
    "\n",
    "# Predict the test set labels\n",
    "y_pred = mlp.predict(X_test_scaled)\n",
    "\n",
    "# Calculate the accuracy score\n",
    "mlp_accuracy = accuracy_score(y_test, y_pred)\n",
    "\n",
    "mlp_accuracy\n",
    "\n"
   ]
  },
  {
   "cell_type": "code",
   "execution_count": 88,
   "metadata": {},
   "outputs": [
    {
     "data": {
      "text/plain": [
       "0.25407894736842107"
      ]
     },
     "execution_count": 88,
     "metadata": {},
     "output_type": "execute_result"
    }
   ],
   "source": [
    "from sklearn.ensemble import RandomForestClassifier\n",
    "\n",
    "# Initialize the classifier\n",
    "rf_clf = RandomForestClassifier(random_state=42)\n",
    "\n",
    "# Fit the classifier\n",
    "rf_clf.fit(X_train, y_train)\n",
    "\n",
    "# Predict the test set results\n",
    "y_pred_rf = rf_clf.predict(X_test)\n",
    "\n",
    "# Calculate the accuracy of the model\n",
    "rf_accuracy = accuracy_score(y_test, y_pred_rf)\n",
    "\n",
    "rf_accuracy\n"
   ]
  },
  {
   "cell_type": "code",
   "execution_count": 12,
   "metadata": {},
   "outputs": [
    {
     "data": {
      "text/plain": [
       "0.25407894736842107"
      ]
     },
     "execution_count": 12,
     "metadata": {},
     "output_type": "execute_result"
    }
   ],
   "source": [
    "from sklearn.ensemble import RandomForestClassifier\n",
    "from sklearn.preprocessing import LabelEncoder\n",
    "from sklearn.model_selection import train_test_split\n",
    "\n",
    "# Define the target variable and the features\n",
    "#X = dataset.drop(['Unnamed: 0', 'track_id', 'artists', 'album_name', 'track_name', 'popularity', 'key', 'mode', 'time_signature', 'track_genre'], axis=1)\n",
    "#y = dataset['track_genre']\n",
    "\n",
    "# Initialize the LabelEncoder\n",
    "le = LabelEncoder()\n",
    "\n",
    "# Fit and transform the target variable\n",
    "y = le.fit_transform(y)\n",
    "\n",
    "# Split the data into training and test sets\n",
    "X_train, X_test, y_train, y_test = train_test_split(X, y, test_size=0.2, random_state=42, stratify=y)\n",
    "\n",
    "# Initialize the classifier\n",
    "rf_clf = RandomForestClassifier(random_state=42)\n",
    "\n",
    "# Fit the classifier\n",
    "rf_clf.fit(X_train, y_train)\n",
    "\n",
    "# Predict the test set results\n",
    "y_pred_rf = rf_clf.predict(X_test)\n",
    "\n",
    "# Calculate the accuracy of the model\n",
    "rf_accuracy = accuracy_score(y_test, y_pred_rf)\n",
    "\n",
    "rf_accuracy\n"
   ]
  },
  {
   "cell_type": "code",
   "execution_count": 13,
   "metadata": {},
   "outputs": [
    {
     "name": "stdout",
     "output_type": "stream",
     "text": [
      "Fitting 3 folds for each of 20 candidates, totalling 60 fits\n"
     ]
    },
    {
     "name": "stderr",
     "output_type": "stream",
     "text": [
      "c:\\Users\\Alec\\AppData\\Local\\Programs\\Python\\Python311\\Lib\\site-packages\\sklearn\\model_selection\\_validation.py:425: FitFailedWarning: \n",
      "33 fits failed out of a total of 60.\n",
      "The score on these train-test partitions for these parameters will be set to nan.\n",
      "If these failures are not expected, you can try to debug them by setting error_score='raise'.\n",
      "\n",
      "Below are more details about the failures:\n",
      "--------------------------------------------------------------------------------\n",
      "12 fits failed with the following error:\n",
      "Traceback (most recent call last):\n",
      "  File \"c:\\Users\\Alec\\AppData\\Local\\Programs\\Python\\Python311\\Lib\\site-packages\\sklearn\\model_selection\\_validation.py\", line 732, in _fit_and_score\n",
      "    estimator.fit(X_train, y_train, **fit_params)\n",
      "  File \"c:\\Users\\Alec\\AppData\\Local\\Programs\\Python\\Python311\\Lib\\site-packages\\sklearn\\base.py\", line 1144, in wrapper\n",
      "    estimator._validate_params()\n",
      "  File \"c:\\Users\\Alec\\AppData\\Local\\Programs\\Python\\Python311\\Lib\\site-packages\\sklearn\\base.py\", line 637, in _validate_params\n",
      "    validate_parameter_constraints(\n",
      "  File \"c:\\Users\\Alec\\AppData\\Local\\Programs\\Python\\Python311\\Lib\\site-packages\\sklearn\\utils\\_param_validation.py\", line 95, in validate_parameter_constraints\n",
      "    raise InvalidParameterError(\n",
      "sklearn.utils._param_validation.InvalidParameterError: The 'max_features' parameter of RandomForestClassifier must be an int in the range [1, inf), a float in the range (0.0, 1.0], a str among {'sqrt', 'log2'} or None. Got 'auto' instead.\n",
      "\n",
      "--------------------------------------------------------------------------------\n",
      "21 fits failed with the following error:\n",
      "Traceback (most recent call last):\n",
      "  File \"c:\\Users\\Alec\\AppData\\Local\\Programs\\Python\\Python311\\Lib\\site-packages\\sklearn\\model_selection\\_validation.py\", line 732, in _fit_and_score\n",
      "    estimator.fit(X_train, y_train, **fit_params)\n",
      "  File \"c:\\Users\\Alec\\AppData\\Local\\Programs\\Python\\Python311\\Lib\\site-packages\\sklearn\\base.py\", line 1144, in wrapper\n",
      "    estimator._validate_params()\n",
      "  File \"c:\\Users\\Alec\\AppData\\Local\\Programs\\Python\\Python311\\Lib\\site-packages\\sklearn\\base.py\", line 637, in _validate_params\n",
      "    validate_parameter_constraints(\n",
      "  File \"c:\\Users\\Alec\\AppData\\Local\\Programs\\Python\\Python311\\Lib\\site-packages\\sklearn\\utils\\_param_validation.py\", line 95, in validate_parameter_constraints\n",
      "    raise InvalidParameterError(\n",
      "sklearn.utils._param_validation.InvalidParameterError: The 'max_features' parameter of RandomForestClassifier must be an int in the range [1, inf), a float in the range (0.0, 1.0], a str among {'log2', 'sqrt'} or None. Got 'auto' instead.\n",
      "\n",
      "  warnings.warn(some_fits_failed_message, FitFailedWarning)\n",
      "c:\\Users\\Alec\\AppData\\Local\\Programs\\Python\\Python311\\Lib\\site-packages\\sklearn\\model_selection\\_search.py:976: UserWarning: One or more of the test scores are non-finite: [0.25301535 0.25328947 0.25260965        nan        nan        nan\n",
      "        nan        nan 0.25628289 0.25575658 0.25110746 0.25240132\n",
      " 0.25635965        nan        nan        nan        nan        nan\n",
      " 0.25401316        nan]\n",
      "  warnings.warn(\n"
     ]
    },
    {
     "data": {
      "text/plain": [
       "({'n_estimators': 200,\n",
       "  'min_samples_split': 2,\n",
       "  'min_samples_leaf': 1,\n",
       "  'max_features': 'sqrt',\n",
       "  'max_depth': 30},\n",
       " 0.257719298245614)"
      ]
     },
     "execution_count": 13,
     "metadata": {},
     "output_type": "execute_result"
    }
   ],
   "source": [
    "from sklearn.model_selection import RandomizedSearchCV\n",
    "\n",
    "# Define the parameter grid\n",
    "param_grid_rf = {\n",
    "    'n_estimators': [100, 200, 500],\n",
    "    'max_depth': [None, 10, 20, 30],\n",
    "    'min_samples_split': [2, 5, 10],\n",
    "    'min_samples_leaf': [1, 2, 4],\n",
    "    'max_features': ['auto', 'sqrt']\n",
    "}\n",
    "\n",
    "# Initialize the RandomizedSearchCV\n",
    "random_search_rf = RandomizedSearchCV(rf_clf, param_grid_rf, n_iter=20, cv=3, scoring='accuracy', n_jobs=-1, random_state=42, verbose=2)\n",
    "\n",
    "# Fit the RandomizedSearchCV\n",
    "random_search_rf.fit(X_train, y_train)\n",
    "\n",
    "# Get the best parameters\n",
    "best_params_rf = random_search_rf.best_params_\n",
    "\n",
    "# Train and evaluate the classifier with the best parameters\n",
    "rf_clf_best = RandomForestClassifier(**best_params_rf, random_state=42)\n",
    "rf_clf_best.fit(X_train, y_train)\n",
    "y_pred_rf_best = rf_clf_best.predict(X_test)\n",
    "tuned_rf_accuracy = accuracy_score(y_test, y_pred_rf_best)\n",
    "\n",
    "best_params_rf, tuned_rf_accuracy\n"
   ]
  },
  {
   "cell_type": "code",
   "execution_count": 14,
   "metadata": {},
   "outputs": [
    {
     "data": {
      "text/plain": [
       "0.21618421052631578"
      ]
     },
     "execution_count": 14,
     "metadata": {},
     "output_type": "execute_result"
    }
   ],
   "source": [
    "from sklearn.ensemble import GradientBoostingClassifier\n",
    "\n",
    "# Initialize the classifier\n",
    "gb_clf = GradientBoostingClassifier(random_state=42)\n",
    "\n",
    "# Fit the classifier\n",
    "gb_clf.fit(X_train, y_train)\n",
    "\n",
    "# Predict the test set results\n",
    "y_pred_gb = gb_clf.predict(X_test)\n",
    "\n",
    "# Calculate the accuracy of the model\n",
    "gb_accuracy = accuracy_score(y_test, y_pred_gb)\n",
    "\n",
    "gb_accuracy\n"
   ]
  },
  {
   "cell_type": "code",
   "execution_count": 15,
   "metadata": {},
   "outputs": [
    {
     "name": "stderr",
     "output_type": "stream",
     "text": [
      "c:\\Users\\Alec\\AppData\\Local\\Programs\\Python\\Python311\\Lib\\site-packages\\sklearn\\svm\\_classes.py:32: FutureWarning: The default value of `dual` will change from `True` to `'auto'` in 1.5. Set the value of `dual` explicitly to suppress the warning.\n",
      "  warnings.warn(\n",
      "c:\\Users\\Alec\\AppData\\Local\\Programs\\Python\\Python311\\Lib\\site-packages\\sklearn\\svm\\_base.py:1242: ConvergenceWarning: Liblinear failed to converge, increase the number of iterations.\n",
      "  warnings.warn(\n"
     ]
    },
    {
     "data": {
      "text/plain": [
       "0.14096491228070177"
      ]
     },
     "execution_count": 15,
     "metadata": {},
     "output_type": "execute_result"
    }
   ],
   "source": [
    "from sklearn import svm\n",
    "from sklearn.preprocessing import StandardScaler\n",
    "\n",
    "# Scale the features for SVM\n",
    "scaler = StandardScaler()\n",
    "X_train_scaled = scaler.fit_transform(X_train)\n",
    "X_test_scaled = scaler.transform(X_test)\n",
    "\n",
    "# Initialize the LinearSVC\n",
    "svm_clf = svm.LinearSVC(random_state=42)\n",
    "\n",
    "# Fit the classifier\n",
    "svm_clf.fit(X_train_scaled, y_train)\n",
    "\n",
    "# Predict the test set results\n",
    "y_pred_svm = svm_clf.predict(X_test_scaled)\n",
    "\n",
    "# Calculate the accuracy of the model\n",
    "svm_accuracy = accuracy_score(y_test, y_pred_svm)\n",
    "\n",
    "svm_accuracy\n"
   ]
  },
  {
   "cell_type": "markdown",
   "metadata": {},
   "source": [
    "achieved an accuracy of approximately 14.1%. This is lower than the accuracy we achieved with the Random Forest model (25.77%).\n",
    "\n",
    "Given these results, I suggest we proceed with Logistic Regression. Logistic Regression is a simpler model, but it can be surprisingly effective for many tasks and is less computationally intensive than SVM or Gradient Boosting.\n",
    "\n",
    "Let's proceed with Logistic Regression. We will use a one-vs-rest (OvR) strategy to handle the multi-class nature of the problem. The LogisticRegression class from Scikit-Learn uses OvR by default when you train it on more than two classes."
   ]
  },
  {
   "cell_type": "code",
   "execution_count": 16,
   "metadata": {},
   "outputs": [
    {
     "name": "stderr",
     "output_type": "stream",
     "text": [
      "c:\\Users\\Alec\\AppData\\Local\\Programs\\Python\\Python311\\Lib\\site-packages\\sklearn\\linear_model\\_logistic.py:460: ConvergenceWarning: lbfgs failed to converge (status=1):\n",
      "STOP: TOTAL NO. of ITERATIONS REACHED LIMIT.\n",
      "\n",
      "Increase the number of iterations (max_iter) or scale the data as shown in:\n",
      "    https://scikit-learn.org/stable/modules/preprocessing.html\n",
      "Please also refer to the documentation for alternative solver options:\n",
      "    https://scikit-learn.org/stable/modules/linear_model.html#logistic-regression\n",
      "  n_iter_i = _check_optimize_result(\n"
     ]
    },
    {
     "data": {
      "text/plain": [
       "0.16030701754385965"
      ]
     },
     "execution_count": 16,
     "metadata": {},
     "output_type": "execute_result"
    }
   ],
   "source": [
    "from sklearn.linear_model import LogisticRegression\n",
    "\n",
    "# Initialize the classifier\n",
    "log_reg_clf = LogisticRegression(random_state=42)\n",
    "\n",
    "# Fit the classifier\n",
    "log_reg_clf.fit(X_train, y_train)\n",
    "\n",
    "# Predict the test set results\n",
    "y_pred_log_reg = log_reg_clf.predict(X_test)\n",
    "\n",
    "# Calculate the accuracy of the model\n",
    "log_reg_accuracy = accuracy_score(y_test, y_pred_log_reg)\n",
    "\n",
    "log_reg_accuracy\n"
   ]
  },
  {
   "cell_type": "markdown",
   "metadata": {},
   "source": [
    "The Logistic Regression model achieved an accuracy of approximately 16.03%, which is an improvement over the SVM model but still lower than the Random Forest model.\n",
    "\n",
    "The warning message suggests that the Logistic Regression model did not converge and reached the maximum number of iterations. This typically means that the model could potentially improve if allowed to run for more iterations. This can be done by increasing the max_iter parameter.\n",
    "\n",
    "However, before we adjust this parameter, I would suggest scaling the features. Scaling is a common requirement for many machine learning estimators; they might behave poorly if the individual features do not more or less resemble standard normally distributed data (Gaussian with zero mean and unit variance). The warning message provides a link to the Scikit-learn documentation that suggests scaling the data.\n",
    "\n",
    "Let's scale the features and run the Logistic Regression model again with a higher maximum number of iterations. "
   ]
  },
  {
   "cell_type": "code",
   "execution_count": 17,
   "metadata": {},
   "outputs": [
    {
     "data": {
      "text/plain": [
       "0.16429824561403508"
      ]
     },
     "execution_count": 17,
     "metadata": {},
     "output_type": "execute_result"
    }
   ],
   "source": [
    "from sklearn.linear_model import LogisticRegression\n",
    "from sklearn.preprocessing import StandardScaler\n",
    "\n",
    "# Scale the features\n",
    "scaler = StandardScaler()\n",
    "X_train_scaled = scaler.fit_transform(X_train)\n",
    "X_test_scaled = scaler.transform(X_test)\n",
    "\n",
    "# Initialize the classifier with a higher max_iter\n",
    "log_reg_clf = LogisticRegression(max_iter=1000, random_state=42)\n",
    "\n",
    "# Fit the classifier\n",
    "log_reg_clf.fit(X_train_scaled, y_train)\n",
    "\n",
    "# Predict the test set results\n",
    "y_pred_log_reg = log_reg_clf.predict(X_test_scaled)\n",
    "\n",
    "# Calculate the accuracy of the model\n",
    "log_reg_accuracy = accuracy_score(y_test, y_pred_log_reg)\n",
    "\n",
    "log_reg_accuracy\n"
   ]
  },
  {
   "cell_type": "markdown",
   "metadata": {},
   "source": [
    "Ensemble methods can be a very effective way to improve the performance of your model. The main idea is to combine the predictions of several base estimators built with a given learning algorithm in order to improve generalizability and robustness.\n",
    "\n",
    "There are several methods to create an ensemble model:\n",
    "\n",
    "Bagging methods: Bagging methods work by constructing several instances of a black-box estimator on random subsets of the original training set and then aggregate their individual predictions to form a final prediction. An example of a bagging method is a Random Forest.\n",
    "\n",
    "Boosting methods: Boosting methods are a set of algorithms used to convert weak learners into strong learners. The main principle of boosting is to fit a sequence of weak learners (models that are only slightly better than random guessing) to weighted versions of the data, where more weight is given to examples that were misclassified by earlier rounds. Examples of boosting methods are AdaBoost and Gradient Boosting.\n",
    "\n",
    "Stacking (or Stacked Generalization): This involves training a learning algorithm to combine the predictions of several other learning algorithms. The idea is to train a model to learn the best way to combine the input models.\n",
    "\n",
    "Since we've already tried Random Forest (a bagging method) and Gradient Boosting (a boosting method) and they were computationally expensive, I'd recommend trying Stacking."
   ]
  },
  {
   "cell_type": "code",
   "execution_count": 18,
   "metadata": {},
   "outputs": [
    {
     "name": "stderr",
     "output_type": "stream",
     "text": [
      "c:\\Users\\Alec\\AppData\\Local\\Programs\\Python\\Python311\\Lib\\site-packages\\sklearn\\svm\\_classes.py:32: FutureWarning: The default value of `dual` will change from `True` to `'auto'` in 1.5. Set the value of `dual` explicitly to suppress the warning.\n",
      "  warnings.warn(\n"
     ]
    }
   ],
   "source": [
    "from sklearn.ensemble import StackingClassifier\n",
    "from sklearn.linear_model import LogisticRegression\n",
    "from sklearn.ensemble import RandomForestClassifier\n",
    "from sklearn import svm\n",
    "\n",
    "# Define the base models\n",
    "level0 = list()\n",
    "level0.append(('lr', LogisticRegression(max_iter=1000)))\n",
    "level0.append(('rf', RandomForestClassifier(n_estimators=200, min_samples_split=2, min_samples_leaf=1, max_features='sqrt', max_depth=30)))\n",
    "level0.append(('svm', svm.LinearSVC()))\n",
    "\n",
    "# Define meta learner model\n",
    "level1 = LogisticRegression()\n",
    "\n",
    "# Define the stacking ensemble\n",
    "stacking_model = StackingClassifier(estimators=level0, final_estimator=level1, cv=5)\n",
    "\n",
    "# Fit the model on our data\n",
    "stacking_model.fit(X_train_scaled, y_train)\n",
    "\n",
    "# Predict the test set results\n",
    "y_pred_stacking = stacking_model.predict(X_test_scaled)\n",
    "\n",
    "# Calculate the accuracy of the model\n",
    "stacking_accuracy = accuracy_score(y_test, y_pred_stacking)\n",
    "\n",
    "stacking_accuracy\n"
   ]
  }
 ],
 "metadata": {
  "kernelspec": {
   "display_name": "Python 3",
   "language": "python",
   "name": "python3"
  },
  "language_info": {
   "codemirror_mode": {
    "name": "ipython",
    "version": 3
   },
   "file_extension": ".py",
   "mimetype": "text/x-python",
   "name": "python",
   "nbconvert_exporter": "python",
   "pygments_lexer": "ipython3",
   "version": "3.11.1"
  },
  "orig_nbformat": 4
 },
 "nbformat": 4,
 "nbformat_minor": 2
}
